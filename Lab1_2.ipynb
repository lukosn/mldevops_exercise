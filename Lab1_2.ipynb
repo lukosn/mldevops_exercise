{
 "cells": [
  {
   "cell_type": "code",
   "id": "initial_id",
   "metadata": {
    "collapsed": true,
    "ExecuteTime": {
     "end_time": "2024-10-14T21:31:51.763544Z",
     "start_time": "2024-10-14T21:31:43.989461Z"
    }
   },
   "source": [
    "import torch\n",
    "from torch.utils.data import DataLoader\n",
    "from torchvision import datasets, transforms\n",
    "import matplotlib.pyplot as plt\n",
    "\n",
    "transform = transforms.Compose([transforms.ToTensor()])\n",
    "\n",
    "train_data = datasets.FashionMNIST(root='./data', train=True, download=True, transform=transform)\n",
    "test_data = datasets.FashionMNIST(root='./data', train=False, download=True, transform=transform)\n",
    "\n",
    "train_loader =  DataLoader(train_data, batch_size=64, shuffle=True)\n",
    "test_loader = DataLoader(test_data, batch_size=64, shuffle=True)\n",
    "\n",
    "print('Train data:', len(train_data))\n",
    "print('Test data:', len(test_data))"
   ],
   "outputs": [
    {
     "name": "stdout",
     "output_type": "stream",
     "text": [
      "Train data: 60000\n",
      "Test data: 10000\n"
     ]
    }
   ],
   "execution_count": 2
  },
  {
   "metadata": {
    "ExecuteTime": {
     "end_time": "2024-10-14T21:31:51.809042Z",
     "start_time": "2024-10-14T21:31:51.780269Z"
    }
   },
   "cell_type": "code",
   "source": [
    "class AE(torch.nn.Module):\n",
    "    def __init__(self):\n",
    "        super().__init__()\n",
    "        \n",
    "        self.encoder = torch.nn.Sequential(\n",
    "            torch.nn.Linear(28*28, 128),\n",
    "            torch.nn.ReLU(),\n",
    "            torch.nn.Linear(128, 64),\n",
    "            torch.nn.ReLU(),\n",
    "            torch.nn.Linear(64, 36),\n",
    "            torch.nn.ReLU(),\n",
    "            torch.nn.Linear(36, 18),\n",
    "            torch.nn.ReLU(),\n",
    "            torch.nn.Linear(18, 9)\n",
    "        )\n",
    "        \n",
    "        self.decoder = torch.nn.Sequential(\n",
    "            torch.nn.Linear(9, 18),\n",
    "            torch.nn.ReLU(),\n",
    "            torch.nn.Linear(18, 36),\n",
    "            torch.nn.ReLU(),\n",
    "            torch.nn.Linear(36, 64),\n",
    "            torch.nn.ReLU(),\n",
    "            torch.nn.Linear(64, 128),\n",
    "            torch.nn.ReLU(),\n",
    "            torch.nn.Linear(128, 28*28),\n",
    "            torch.nn.Sigmoid()\n",
    "        )\n",
    "        \n",
    "    def forward(self, x):\n",
    "        encoded = self.encoder(x)\n",
    "        decoded = self.decoder(encoded)\n",
    "        return decoded"
   ],
   "id": "602af54a45673a72",
   "outputs": [],
   "execution_count": 3
  },
  {
   "metadata": {
    "ExecuteTime": {
     "end_time": "2024-10-14T21:31:51.855667Z",
     "start_time": "2024-10-14T21:31:51.827037Z"
    }
   },
   "cell_type": "code",
   "source": [
    "model = AE()\n",
    "\n",
    "loss_function = torch.nn.MSELoss()\n",
    "\n",
    "optimizer = torch.optim.Adam(model.parameters(), lr=1e-3)"
   ],
   "id": "eea562e9bc2fb8",
   "outputs": [],
   "execution_count": 4
  },
  {
   "metadata": {
    "ExecuteTime": {
     "end_time": "2024-10-14T21:34:19.536651Z",
     "start_time": "2024-10-14T21:31:51.874943Z"
    }
   },
   "cell_type": "code",
   "source": [
    "num_epochs = 10\n",
    "outputs = []\n",
    "losses = []\n",
    "\n",
    "for epoch in range(num_epochs):\n",
    "    for (img, _) in train_loader:\n",
    "        img = img.reshape(-1, 28*28)\n",
    "        recon = model(img)\n",
    "        loss = loss_function(recon, img)\n",
    "        \n",
    "        optimizer.zero_grad()\n",
    "        loss.backward()\n",
    "        optimizer.step()\n",
    "        \n",
    "    print(f'Epoch:{epoch+1}, Loss:{loss.item()}')\n",
    "    outputs.append((epoch, img, recon))\n",
    "    losses.append(loss)\n",
    "    \n"
   ],
   "id": "6ee77acd52ed6709",
   "outputs": [
    {
     "name": "stdout",
     "output_type": "stream",
     "text": [
      "Epoch:1, Loss:0.03039519488811493\n",
      "Epoch:2, Loss:0.026639454066753387\n",
      "Epoch:3, Loss:0.025926588103175163\n",
      "Epoch:4, Loss:0.02433832734823227\n",
      "Epoch:5, Loss:0.023426324129104614\n",
      "Epoch:6, Loss:0.022333629429340363\n",
      "Epoch:7, Loss:0.02113478071987629\n",
      "Epoch:8, Loss:0.01906108297407627\n",
      "Epoch:9, Loss:0.020596221089363098\n",
      "Epoch:10, Loss:0.021801810711622238\n"
     ]
    }
   ],
   "execution_count": 5
  },
  {
   "metadata": {
    "ExecuteTime": {
     "end_time": "2024-10-14T21:56:04.779729Z",
     "start_time": "2024-10-14T21:56:04.558017Z"
    }
   },
   "cell_type": "code",
   "source": [
    "import random\n",
    "\n",
    "i = random.randint(0, 32)\n",
    "\n",
    "plt.figure(figsize=(1, 2))\n",
    "\n",
    "img = outputs[0][1].detach().numpy()\n",
    "recon = outputs[0][2].detach().numpy()\n",
    "\n",
    "item = img[i].reshape(-1, 28, 28)\n",
    "plt.subplot(1, 2, 1)\n",
    "plt.imshow(item[0])\n",
    "\n",
    "item = recon[i].reshape(-1, 28, 28)\n",
    "plt.subplot(1, 2, 2)\n",
    "plt.imshow(item[0])"
   ],
   "id": "8aded24d47e76e66",
   "outputs": [
    {
     "data": {
      "text/plain": [
       "<matplotlib.image.AxesImage at 0x294abb1b4c0>"
      ]
     },
     "execution_count": 29,
     "metadata": {},
     "output_type": "execute_result"
    },
    {
     "data": {
      "text/plain": [
       "<Figure size 100x200 with 2 Axes>"
      ],
      "image/png": "[encoded data removed]"
     },
     "metadata": {},
     "output_type": "display_data"
    }
   ],
   "execution_count": 29
  },
  {
   "metadata": {
    "ExecuteTime": {
     "end_time": "2024-10-14T21:56:58.243098Z",
     "start_time": "2024-10-14T21:56:58.224517Z"
    }
   },
   "cell_type": "code",
   "source": "torch.save(model.state_dict(), 'AE_fashion.pth')",
   "id": "23b598a34bed2922",
   "outputs": [],
   "execution_count": 31
  }
 ],
 "metadata": {
  "kernelspec": {
   "display_name": "Python 3",
   "language": "python",
   "name": "python3"
  },
  "language_info": {
   "codemirror_mode": {
    "name": "ipython",
    "version": 2
   },
   "file_extension": ".py",
   "mimetype": "text/x-python",
   "name": "python",
   "nbconvert_exporter": "python",
   "pygments_lexer": "ipython2",
   "version": "2.7.6"
  }
 },
 "nbformat": 4,
 "nbformat_minor": 5
}
